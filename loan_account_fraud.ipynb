{
 "cells": [
  {
   "cell_type": "markdown",
   "metadata": {},
   "source": [
    "# Import packages"
   ]
  },
  {
   "cell_type": "code",
   "execution_count": null,
   "metadata": {
    "ExecuteTime": {
     "end_time": "2023-06-16T19:12:57.775649Z",
     "start_time": "2023-06-16T19:12:39.167851Z"
    }
   },
   "outputs": [],
   "source": [
    "import numpy as np\n",
    "import pandas as pd\n",
    "import matplotlib.pyplot as plt\n",
    "import seaborn as sns; sns.set(color_codes=True)\n",
    "import os"
   ]
  },
  {
   "cell_type": "code",
   "execution_count": null,
   "metadata": {
    "ExecuteTime": {
     "end_time": "2023-06-16T19:13:04.827905Z",
     "start_time": "2023-06-16T19:12:57.784136Z"
    }
   },
   "outputs": [],
   "source": [
    "from sklearn.model_selection import train_test_split\n",
    "from imblearn.over_sampling import SMOTE\n",
    "from sklearn.linear_model import LogisticRegression\n",
    "from sklearn.tree import DecisionTreeClassifier\n",
    "from sklearn.ensemble import RandomForestClassifier\n",
    "from sklearn.metrics import accuracy_score, precision_score, recall_score, f1_score, classification_report, roc_curve, confusion_matrix, auc\n",
    "import matplotlib.pyplot as plt\n",
    "from sklearn.metrics import ConfusionMatrixDisplay\n",
    "from sklearn import metrics"
   ]
  },
  {
   "cell_type": "code",
   "execution_count": 3,
   "metadata": {
    "ExecuteTime": {
     "end_time": "2023-06-16T19:13:04.843980Z",
     "start_time": "2023-06-16T19:13:04.833150Z"
    }
   },
   "outputs": [],
   "source": [
    "import warnings\n",
    "warnings.filterwarnings(\"ignore\")"
   ]
  },
  {
   "cell_type": "markdown",
   "metadata": {},
   "source": [
    "# Data Summary"
   ]
  },
  {
   "cell_type": "code",
   "execution_count": 4,
   "metadata": {
    "ExecuteTime": {
     "end_time": "2023-06-16T19:13:04.879288Z",
     "start_time": "2023-06-16T19:13:04.852654Z"
    }
   },
   "outputs": [],
   "source": [
    "cwd = os.getcwd()\n",
    "print(\"Current working directory:\", cwd)"
   ]
  },
  {
   "cell_type": "markdown",
   "metadata": {},
   "source": [
    "## Data Loading"
   ]
  },
  {
   "cell_type": "code",
   "execution_count": 5,
   "metadata": {
    "ExecuteTime": {
     "end_time": "2023-06-16T19:13:13.082464Z",
     "start_time": "2023-06-16T19:13:04.886121Z"
    }
   },
   "outputs": [],
   "source": [
    "df = pd.read_csv(\"./Base.csv\",low_memory=False)"
   ]
  },
  {
   "cell_type": "markdown",
   "metadata": {},
   "source": [
    "## Data Summary"
   ]
  },
  {
   "cell_type": "code",
   "execution_count": 6,
   "metadata": {
    "ExecuteTime": {
     "end_time": "2023-06-16T19:13:13.163413Z",
     "start_time": "2023-06-16T19:13:13.082464Z"
    }
   },
   "outputs": [],
   "source": [
    "df.head()"
   ]
  },
  {
   "cell_type": "code",
   "execution_count": 7,
   "metadata": {
    "ExecuteTime": {
     "end_time": "2023-06-16T19:13:13.186598Z",
     "start_time": "2023-06-16T19:13:13.163413Z"
    }
   },
   "outputs": [],
   "source": [
    "df.shape"
   ]
  },
  {
   "cell_type": "code",
   "execution_count": 8,
   "metadata": {
    "ExecuteTime": {
     "end_time": "2023-06-16T19:13:13.211788Z",
     "start_time": "2023-06-16T19:13:13.194672Z"
    }
   },
   "outputs": [],
   "source": [
    "df.columns"
   ]
  },
  {
   "cell_type": "markdown",
   "metadata": {},
   "source": [
    "## Data Dictionary"
   ]
  },
  {
   "cell_type": "raw",
   "metadata": {},
   "source": [
    "• income (numeric): Annual income of the applicant (in decile form). Ranges between\n",
    "[0.1, 0.9].\n",
    "\n",
    "• name_email_similarity (numeric): Metric of similarity between email and applicant’s\n",
    "name. Higher values represent higher similarity. Ranges between [0, 1].\n",
    "\n",
    "• prev_address_months_count (numeric): Number of months in previous registered\n",
    "address of the applicant, i.e. the applicant’s previous residence, if applicable. Ranges\n",
    "between [−1, 380] months (-1 is a missing value).\n",
    "\n",
    "• current_address_months_count (numeric): Months in currently registered address of\n",
    "the applicant. Ranges between [−1, 429] months (-1 is a missing value).\n",
    "\n",
    "• customer_age (numeric): Applicant’s age in years, rounded to the decade. Ranges\n",
    "between [10, 90] years.\n",
    "\n",
    "• days_since_request (numeric): Number of days passed since application was done.\n",
    "Ranges between [0, 79] days.\n",
    "\n",
    "• intended_balcon_amount (numeric): Initial transferred amount for application.\n",
    "Ranges between [−16, 114] (negatives are missing values).\n",
    "\n",
    "• payment_type (categorical): Credit payment plan type. 5 possible (annonymized)\n",
    "values.\n",
    "\n",
    "• zip_count_4w (numeric): Number of applications within same zip code in last 4 weeks.\n",
    "Ranges between [1, 6830].\n",
    "\n",
    "• velocity_6h (numeric): Velocity of total applications made in last 6 hours i.e., average\n",
    "number of applications per hour in the last 6 hours. Ranges between [−175, 16818].\n",
    "\n",
    "• velocity_24h (numeric): Velocity of total applications made in last 24 hours i.e., average\n",
    "number of applications per hour in the last 24 hours. Ranges between [1297, 9586]\n",
    "\n",
    "• velocity_4w (numeric): Velocity of total applications made in last 4 weeks, i.e., average\n",
    "number of applications per hour in the last 4 weeks. Ranges between [2825, 7020].\n",
    "\n",
    "• bank_branch_count_8w (numeric): Number of total applications in the selected bank\n",
    "branch in last 8 weeks. Ranges between [0, 2404].\n",
    "\n",
    "• date_of_birth_distinct_emails_4w (numeric): Number of emails for applicants with\n",
    "same date of birth in last 4 weeks. Ranges between [0, 39].\n",
    "\n",
    "• employment_status (categorical): Employment status of the applicant. 7 possible\n",
    "(annonymized) values.\n",
    "\n",
    "• credit_risk_score (numeric): Internal score of application risk. Ranges between\n",
    "[−191, 389].\n",
    "\n",
    "• email_is_free (binary): Domain of application email (either free or paid).\n",
    "\n",
    "• housing_status (categorical): Current residential status for applicant. 7 possible\n",
    "(annonymized) values.\n",
    "\n",
    "• phone_home_valid (binary): Validity of provided home phone.\n",
    "\n",
    "• phone_mobile_valid (binary): Validity of provided mobile phone.\n",
    "\n",
    "• bank_months_count (numeric): How old is previous account (if held) in months.\n",
    "Ranges between [−1, 32] months (-1 is a missing value).\n",
    "\n",
    "• has_other_cards (binary): If applicant has other cards from the same banking company.\n",
    "2\n",
    "• proposed_credit_limit (numeric): Applicant’s proposed credit limit. Ranges between\n",
    "[200, 2000].\n",
    "\n",
    "• foreign_request (binary): If origin country of request is different from bank’s country.\n",
    "\n",
    "• source (categorical): Online source of application. Either browser (INTERNET) or\n",
    "app (TELEAPP).\n",
    "\n",
    "• session_length_in_minutes (numeric): Length of user session in banking website in\n",
    "minutes. Ranges between [−1, 107] minutes (-1 is a missing value).\n",
    "\n",
    "• device_os (categorical): Operative system of device that made request. Possible values\n",
    "are: Windows, macOS, Linux, X11, or other.\n",
    "\n",
    "• keep_alive_session (binary): User option on session logout.\n",
    "\n",
    "• device_distinct_emails (numeric): Number of distinct emails in banking website from\n",
    "the used device in last 8 weeks. Ranges between [−1, 2] emails (-1 is a missing value).\n",
    "\n",
    "• device_fraud_count (numeric): Number of fraudulent applications with used device.\n",
    "Ranges between [0, 1].\n",
    "\n",
    "• month (numeric): Month where the application was made. Ranges between [0, 7].\n",
    "\n",
    "• fraud_bool (binary): If the application is fraudulent or not."
   ]
  },
  {
   "cell_type": "markdown",
   "metadata": {},
   "source": [
    "## Data Types"
   ]
  },
  {
   "cell_type": "code",
   "execution_count": 9,
   "metadata": {
    "ExecuteTime": {
     "end_time": "2023-06-16T19:13:13.243848Z",
     "start_time": "2023-06-16T19:13:13.217729Z"
    }
   },
   "outputs": [],
   "source": [
    "dtypes = df.dtypes\n",
    "\n",
    "# count number of int, float, and object columns\n",
    "int_count = (dtypes == \"int64\").sum()\n",
    "float_count = (dtypes == \"float64\").sum()\n",
    "object_count = (dtypes == \"object\").sum()\n",
    "\n",
    "# print counts of each data type\n",
    "print(\"Int columns:\", int_count)\n",
    "print(\"Float columns:\", float_count)\n",
    "print(\"Object columns:\", object_count)"
   ]
  },
  {
   "cell_type": "code",
   "execution_count": 10,
   "metadata": {
    "ExecuteTime": {
     "end_time": "2023-06-16T19:13:13.611721Z",
     "start_time": "2023-06-16T19:13:13.245566Z"
    }
   },
   "outputs": [],
   "source": [
    "int_columns = df.select_dtypes(include=['int64']).columns.tolist()\n",
    "float_columns = df.select_dtypes(include=['float64']).columns.tolist()\n",
    "object_columns = df.select_dtypes(include=['object']).columns.tolist()\n",
    "\n",
    "print(\"Int columns:\", int_columns)\n",
    "print(\"\\n\")\n",
    "print(\"Float columns:\", float_columns)\n",
    "print(\"\\n\")\n",
    "print(\"Object columns:\", object_columns)"
   ]
  },
  {
   "cell_type": "markdown",
   "metadata": {},
   "source": [
    "# Missing Values"
   ]
  },
  {
   "cell_type": "raw",
   "metadata": {},
   "source": [
    "prev_address_months_count,current_address_months_count,bank_months_count,session_length_in_minutes,device_distinct_emails : -1's are missing values\n",
    "\n",
    "intended_balcon_amount : Negatives are missing values"
   ]
  },
  {
   "cell_type": "code",
   "execution_count": 11,
   "metadata": {
    "ExecuteTime": {
     "end_time": "2023-06-16T19:13:14.233068Z",
     "start_time": "2023-06-16T19:13:13.617696Z"
    }
   },
   "outputs": [],
   "source": [
    "columns_to_replace = ['prev_address_months_count', 'current_address_months_count', 'bank_months_count', 'session_length_in_minutes', 'device_distinct_emails_8w']\n",
    "\n",
    "df[columns_to_replace] = df[columns_to_replace].replace(-1, np.nan)\n"
   ]
  },
  {
   "cell_type": "code",
   "execution_count": 12,
   "metadata": {
    "ExecuteTime": {
     "end_time": "2023-06-16T19:13:14.289940Z",
     "start_time": "2023-06-16T19:13:14.241415Z"
    }
   },
   "outputs": [],
   "source": [
    "df[\"prev_address_months_count\"].value_counts(dropna=False)"
   ]
  },
  {
   "cell_type": "code",
   "execution_count": 13,
   "metadata": {
    "ExecuteTime": {
     "end_time": "2023-06-16T19:13:14.595416Z",
     "start_time": "2023-06-16T19:13:14.289940Z"
    }
   },
   "outputs": [],
   "source": [
    "df.loc[df['intended_balcon_amount'] < 0, 'intended_balcon_amount'] = np.nan"
   ]
  },
  {
   "cell_type": "code",
   "execution_count": 14,
   "metadata": {
    "ExecuteTime": {
     "end_time": "2023-06-16T19:13:15.252280Z",
     "start_time": "2023-06-16T19:13:14.600879Z"
    }
   },
   "outputs": [],
   "source": [
    "# Top ten columns with missing values %\n",
    "missing = df.count()/len(df)\n",
    "missing = (1-missing)*100\n",
    "missing.sort_values(ascending=False).head(10)"
   ]
  },
  {
   "cell_type": "markdown",
   "metadata": {},
   "source": [
    "Based on the missing value information, the following columns have missing values:\n",
    "\n",
    "intended_balcon_amount\n",
    "prev_address_months_count,\n",
    "bank_months_count,\n",
    "current_address_months_count,\n",
    "session_length_in_minutes,\n",
    "device_distinct_emails_8w.\n",
    "\n",
    "Among these columns, intended_balcon_amount and prev_address_months_count has more than 71% missing values. Therefore, it is recommended to remove these columns from the dataset.\n",
    "\n",
    "To address missing values in the remaining columns, we can consider various strategies such as:\n",
    "\n",
    "Removing rows with missing values: If the number of missing values in the other columns is relatively small, we may choose to remove the rows containing missing values.\n",
    "\n",
    "Imputation: If the missing values are a small portion of the dataset, We can fill them with appropriate values. This can include methods like mean, median, mode imputation, or using machine learning algorithms to predict missing values based on other variables.\n",
    "\n",
    "It is important to assess the impact of missing values on the analysis or model being developed and select the most suitable approach for handling them.\n"
   ]
  },
  {
   "cell_type": "code",
   "execution_count": 15,
   "metadata": {
    "ExecuteTime": {
     "end_time": "2023-06-16T19:13:15.561350Z",
     "start_time": "2023-06-16T19:13:15.257220Z"
    }
   },
   "outputs": [],
   "source": [
    "df = df.drop(['intended_balcon_amount','prev_address_months_count'], axis = 1)"
   ]
  },
  {
   "cell_type": "markdown",
   "metadata": {},
   "source": [
    "## Missing Values Treatment"
   ]
  },
  {
   "cell_type": "code",
   "execution_count": 16,
   "metadata": {
    "ExecuteTime": {
     "end_time": "2023-06-16T19:13:15.864742Z",
     "start_time": "2023-06-16T19:13:15.567729Z"
    }
   },
   "outputs": [],
   "source": [
    "df['bank_months_count']=df['bank_months_count'].fillna(df['bank_months_count'].median())\n",
    "df['current_address_months_count']=df['current_address_months_count'].fillna(df['current_address_months_count'].median())\n",
    "df['session_length_in_minutes']=df['session_length_in_minutes'].fillna(df['session_length_in_minutes'].median())\n",
    "df['credit_risk_score']=df['credit_risk_score'].fillna(df['credit_risk_score'].median())\n",
    "df['device_distinct_emails_8w']=df['device_distinct_emails_8w'].fillna(df['device_distinct_emails_8w'].median())"
   ]
  },
  {
   "cell_type": "markdown",
   "metadata": {},
   "source": [
    "## Data after Missing Values Treatment"
   ]
  },
  {
   "cell_type": "code",
   "execution_count": 17,
   "metadata": {
    "ExecuteTime": {
     "end_time": "2023-06-16T19:13:16.458362Z",
     "start_time": "2023-06-16T19:13:15.870897Z"
    }
   },
   "outputs": [],
   "source": [
    "# Top ten columns with missing values %\n",
    "missing = df.count()/len(df)\n",
    "missing = (1-missing)*100\n",
    "missing.sort_values(ascending=False).head(10)"
   ]
  },
  {
   "cell_type": "code",
   "execution_count": 18,
   "metadata": {
    "ExecuteTime": {
     "end_time": "2023-06-16T19:13:16.743314Z",
     "start_time": "2023-06-16T19:13:16.460282Z"
    }
   },
   "outputs": [],
   "source": [
    "int_columns = df.select_dtypes(include=['int64']).columns.tolist()\n",
    "float_columns = df.select_dtypes(include=['float64']).columns.tolist()\n",
    "object_columns = df.select_dtypes(include=['object']).columns.tolist()\n",
    "\n",
    "print(\"Int columns:\", int_columns)\n",
    "print(\"\\n\")\n",
    "print(\"Float columns:\", float_columns)\n",
    "print(\"\\n\")\n",
    "print(\"Object columns:\", object_columns)"
   ]
  },
  {
   "cell_type": "markdown",
   "metadata": {},
   "source": [
    "# Univariate Analysis"
   ]
  },
  {
   "cell_type": "markdown",
   "metadata": {},
   "source": [
    "## Numerical Data Analysis : Int"
   ]
  },
  {
   "cell_type": "code",
   "execution_count": 19,
   "metadata": {
    "ExecuteTime": {
     "end_time": "2023-06-16T19:13:16.759039Z",
     "start_time": "2023-06-16T19:13:16.743314Z"
    }
   },
   "outputs": [],
   "source": [
    "print(\"Int columns:\", int_columns)"
   ]
  },
  {
   "cell_type": "markdown",
   "metadata": {},
   "source": [
    "### Target variable"
   ]
  },
  {
   "cell_type": "code",
   "execution_count": 20,
   "metadata": {
    "ExecuteTime": {
     "end_time": "2023-06-16T19:13:16.806221Z",
     "start_time": "2023-06-16T19:13:16.763431Z"
    }
   },
   "outputs": [],
   "source": [
    "df['fraud_bool'].value_counts(dropna=False)"
   ]
  },
  {
   "cell_type": "code",
   "execution_count": 21,
   "metadata": {
    "ExecuteTime": {
     "end_time": "2023-06-16T19:13:16.853596Z",
     "start_time": "2023-06-16T19:13:16.810138Z"
    }
   },
   "outputs": [],
   "source": [
    "df[\"fraud_bool\"].value_counts(1, dropna=False)*100"
   ]
  },
  {
   "cell_type": "code",
   "execution_count": 22,
   "metadata": {
    "ExecuteTime": {
     "end_time": "2023-06-16T19:13:17.643550Z",
     "start_time": "2023-06-16T19:13:16.857084Z"
    }
   },
   "outputs": [],
   "source": [
    "df[\"fraud_bool\"].value_counts(dropna=False).plot(kind=\"barh\")\n",
    "plt.title(\"Bar Plot for fraud_bool\")\n",
    "plt.show()"
   ]
  },
  {
   "cell_type": "markdown",
   "metadata": {},
   "source": [
    "Based on the provided information, the fraud_bool variable exhibits an imbalanced distribution. The percentage of instances labeled as 0 (non-fraudulent) is 98.8971%, while the percentage of instances labeled as 1 (fraudulent) is 1.1029%.\n",
    "\n",
    "Imbalanced problems like this can pose challenges during analysis and modeling, as the minority class (fraudulent) may be underrepresented, making it harder for a model to learn and predict accurately."
   ]
  },
  {
   "cell_type": "markdown",
   "metadata": {},
   "source": [
    "### customer_age"
   ]
  },
  {
   "cell_type": "code",
   "execution_count": 23,
   "metadata": {
    "ExecuteTime": {
     "end_time": "2023-06-16T19:13:17.690402Z",
     "start_time": "2023-06-16T19:13:17.648815Z"
    }
   },
   "outputs": [],
   "source": [
    "df[\"customer_age\"].value_counts(dropna=False)"
   ]
  },
  {
   "cell_type": "code",
   "execution_count": 24,
   "metadata": {
    "ExecuteTime": {
     "end_time": "2023-06-16T19:13:17.738487Z",
     "start_time": "2023-06-16T19:13:17.692191Z"
    }
   },
   "outputs": [],
   "source": [
    "df[\"customer_age\"].value_counts(1, dropna=False)*100 "
   ]
  },
  {
   "cell_type": "code",
   "execution_count": 25,
   "metadata": {
    "ExecuteTime": {
     "end_time": "2023-06-16T19:13:18.211128Z",
     "start_time": "2023-06-16T19:13:17.739003Z"
    }
   },
   "outputs": [],
   "source": [
    "df[\"customer_age\"].value_counts(dropna=False).plot(kind=\"barh\")\n",
    "plt.title(\"Bar Plot for customer_age\")\n",
    "plt.show()"
   ]
  },
  {
   "cell_type": "markdown",
   "metadata": {
    "ExecuteTime": {
     "end_time": "2023-06-10T08:15:38.040107Z",
     "start_time": "2023-06-10T08:15:38.025047Z"
    }
   },
   "source": [
    "The provided information describes the age distribution of applicants, indicating the following:\n",
    "\n",
    "More than 93% of the applicants fall within the age range of 20-50.\n",
    "Less than 1% of the applicants are aged 60 or above.\n",
    "Approximately 2% of the applicants are aged 10.\n",
    "\n",
    "These statistics highlight the age composition of the applicant pool, emphasizing that a significant majority (over 93%) are between the ages of 20 and 50. Meanwhile, a very small proportion (less than 1%) consists of individuals aged 60 or older. Additionally, around 2% of the applicants are found to be 10 years old."
   ]
  },
  {
   "cell_type": "markdown",
   "metadata": {},
   "source": [
    "### zip_count_4w"
   ]
  },
  {
   "cell_type": "code",
   "execution_count": 26,
   "metadata": {
    "ExecuteTime": {
     "end_time": "2023-06-16T19:13:18.307645Z",
     "start_time": "2023-06-16T19:13:18.216091Z"
    }
   },
   "outputs": [],
   "source": [
    "df[\"zip_count_4w\"].value_counts(dropna=False)"
   ]
  },
  {
   "cell_type": "code",
   "execution_count": 27,
   "metadata": {
    "ExecuteTime": {
     "end_time": "2023-06-16T19:13:18.403029Z",
     "start_time": "2023-06-16T19:13:18.307645Z"
    }
   },
   "outputs": [],
   "source": [
    "df[\"zip_count_4w\"].value_counts(1, dropna=False)*100 "
   ]
  },
  {
   "cell_type": "markdown",
   "metadata": {
    "ExecuteTime": {
     "end_time": "2023-06-10T08:19:36.184132Z",
     "start_time": "2023-06-10T08:18:31.397513Z"
    }
   },
   "source": [
    "### bank_branch_count_8w"
   ]
  },
  {
   "cell_type": "code",
   "execution_count": 28,
   "metadata": {
    "ExecuteTime": {
     "end_time": "2023-06-16T19:13:18.466072Z",
     "start_time": "2023-06-16T19:13:18.403029Z"
    }
   },
   "outputs": [],
   "source": [
    "df[\"bank_branch_count_8w\"].value_counts(dropna=False)"
   ]
  },
  {
   "cell_type": "code",
   "execution_count": 29,
   "metadata": {
    "ExecuteTime": {
     "end_time": "2023-06-16T19:13:18.553556Z",
     "start_time": "2023-06-16T19:13:18.483533Z"
    }
   },
   "outputs": [],
   "source": [
    "df[\"bank_branch_count_8w\"].value_counts(1, dropna=False)*100 "
   ]
  },
  {
   "cell_type": "markdown",
   "metadata": {
    "ExecuteTime": {
     "end_time": "2023-06-10T08:23:36.688823Z",
     "start_time": "2023-06-10T08:23:18.207198Z"
    }
   },
   "source": [
    "The variable \"bank_branch_count_8w\" in a dataset typically represents the count or number of different bank branches that an individual has interacted with or visited within the past 8 weeks."
   ]
  },
  {
   "cell_type": "markdown",
   "metadata": {
    "ExecuteTime": {
     "end_time": "2023-06-10T08:33:23.111611Z",
     "start_time": "2023-06-10T08:33:23.100737Z"
    }
   },
   "source": [
    "### date_of_birth_distinct_emails_4w"
   ]
  },
  {
   "cell_type": "markdown",
   "metadata": {},
   "source": [
    "The variable \"date_of_birth_distinct_emails_4w\" in a dataset typically represents the count or number of distinct or unique email addresses associated with individuals who share the same date of birth within a 4-week period."
   ]
  },
  {
   "cell_type": "code",
   "execution_count": 30,
   "metadata": {
    "ExecuteTime": {
     "end_time": "2023-06-16T19:13:18.593768Z",
     "start_time": "2023-06-16T19:13:18.553556Z"
    }
   },
   "outputs": [],
   "source": [
    "df[\"date_of_birth_distinct_emails_4w\"].value_counts(dropna=False)"
   ]
  },
  {
   "cell_type": "code",
   "execution_count": 31,
   "metadata": {
    "ExecuteTime": {
     "end_time": "2023-06-16T19:13:18.632698Z",
     "start_time": "2023-06-16T19:13:18.599363Z"
    }
   },
   "outputs": [],
   "source": [
    "df[\"date_of_birth_distinct_emails_4w\"].value_counts(1, dropna=False)*100 "
   ]
  },
  {
   "cell_type": "code",
   "execution_count": 32,
   "metadata": {
    "ExecuteTime": {
     "end_time": "2023-06-16T19:13:19.798004Z",
     "start_time": "2023-06-16T19:13:18.635182Z"
    }
   },
   "outputs": [],
   "source": [
    "df[\"date_of_birth_distinct_emails_4w\"].value_counts(dropna=False).plot(kind=\"barh\")\n",
    "plt.title(\"Bar Plot for date_of_birth_distinct_emails_4w\")\n",
    "plt.show()"
   ]
  },
  {
   "cell_type": "markdown",
   "metadata": {},
   "source": [
    "### credit_risk_score"
   ]
  },
  {
   "cell_type": "code",
   "execution_count": 33,
   "metadata": {
    "ExecuteTime": {
     "end_time": "2023-06-16T19:13:19.844126Z",
     "start_time": "2023-06-16T19:13:19.802692Z"
    }
   },
   "outputs": [],
   "source": [
    "df[\"credit_risk_score\"].value_counts(dropna=False)"
   ]
  },
  {
   "cell_type": "code",
   "execution_count": 34,
   "metadata": {
    "ExecuteTime": {
     "end_time": "2023-06-16T19:13:19.940895Z",
     "start_time": "2023-06-16T19:13:19.847844Z"
    }
   },
   "outputs": [],
   "source": [
    "df[\"credit_risk_score\"].value_counts(1, dropna=False)*100 "
   ]
  },
  {
   "cell_type": "code",
   "execution_count": 35,
   "metadata": {
    "ExecuteTime": {
     "end_time": "2023-06-16T19:13:47.673809Z",
     "start_time": "2023-06-16T19:13:19.940895Z"
    }
   },
   "outputs": [],
   "source": [
    "df[\"credit_risk_score\"].value_counts(dropna=False).plot(kind=\"barh\")\n",
    "plt.title(\"Bar Plot for credit_risk_score\")\n",
    "plt.show()"
   ]
  },
  {
   "cell_type": "markdown",
   "metadata": {},
   "source": [
    "### email_is_free"
   ]
  },
  {
   "cell_type": "markdown",
   "metadata": {},
   "source": [
    "The variable \"email_is_free\" in a dataset typically represents whether an email address is associated with a free email service provider or not.\n",
    "\n",
    "In many cases, individuals can choose between free email services (such as Gmail, Yahoo Mail, or Outlook.com) or paid email services offered by their employers or specific providers. The \"email_is_free\" variable is often a binary indicator that denotes whether an email address belongs to a free email service provider (1) or not (0)."
   ]
  },
  {
   "cell_type": "code",
   "execution_count": 36,
   "metadata": {
    "ExecuteTime": {
     "end_time": "2023-06-16T19:13:47.728775Z",
     "start_time": "2023-06-16T19:13:47.678754Z"
    }
   },
   "outputs": [],
   "source": [
    "df[\"email_is_free\"].value_counts(dropna=False)"
   ]
  },
  {
   "cell_type": "code",
   "execution_count": 37,
   "metadata": {
    "ExecuteTime": {
     "end_time": "2023-06-16T19:13:47.801752Z",
     "start_time": "2023-06-16T19:13:47.733064Z"
    }
   },
   "outputs": [],
   "source": [
    "df[\"email_is_free\"].value_counts(1, dropna=False)*100 "
   ]
  },
  {
   "cell_type": "code",
   "execution_count": 38,
   "metadata": {
    "ExecuteTime": {
     "end_time": "2023-06-16T19:13:48.240363Z",
     "start_time": "2023-06-16T19:13:47.804399Z"
    }
   },
   "outputs": [],
   "source": [
    "df[\"email_is_free\"].value_counts(dropna=False).plot(kind=\"barh\")\n",
    "plt.title(\"Bar Plot for email_is_free\")\n",
    "plt.show()"
   ]
  },
  {
   "cell_type": "markdown",
   "metadata": {},
   "source": [
    "### phone_home_valid"
   ]
  },
  {
   "cell_type": "markdown",
   "metadata": {},
   "source": [
    "The variable \"phone_home_valid\" in a dataset typically represents whether a home phone number is considered valid or not."
   ]
  },
  {
   "cell_type": "code",
   "execution_count": 39,
   "metadata": {
    "ExecuteTime": {
     "end_time": "2023-06-16T19:13:48.288187Z",
     "start_time": "2023-06-16T19:13:48.244930Z"
    }
   },
   "outputs": [],
   "source": [
    "df[\"phone_home_valid\"].value_counts(dropna=False)"
   ]
  },
  {
   "cell_type": "code",
   "execution_count": 40,
   "metadata": {
    "ExecuteTime": {
     "end_time": "2023-06-16T19:13:48.772069Z",
     "start_time": "2023-06-16T19:13:48.291275Z"
    }
   },
   "outputs": [],
   "source": [
    "df[\"phone_home_valid\"].value_counts(1, dropna=False)*100 \n",
    "\n",
    "df[\"phone_home_valid\"].value_counts(dropna=False).plot(kind=\"barh\")\n",
    "plt.title(\"Bar Plot for phone_home_valid\")\n",
    "plt.show()"
   ]
  },
  {
   "cell_type": "markdown",
   "metadata": {},
   "source": [
    "### has_other_cards   "
   ]
  },
  {
   "cell_type": "code",
   "execution_count": 41,
   "metadata": {
    "ExecuteTime": {
     "end_time": "2023-06-16T19:13:48.803846Z",
     "start_time": "2023-06-16T19:13:48.775220Z"
    }
   },
   "outputs": [],
   "source": [
    "df[\"has_other_cards\"].value_counts(dropna=False)"
   ]
  },
  {
   "cell_type": "code",
   "execution_count": 42,
   "metadata": {
    "ExecuteTime": {
     "end_time": "2023-06-16T19:13:48.845036Z",
     "start_time": "2023-06-16T19:13:48.805744Z"
    }
   },
   "outputs": [],
   "source": [
    "df[\"has_other_cards\"].value_counts(1, dropna=False)*100 "
   ]
  },
  {
   "cell_type": "code",
   "execution_count": 43,
   "metadata": {
    "ExecuteTime": {
     "end_time": "2023-06-16T19:13:49.329657Z",
     "start_time": "2023-06-16T19:13:48.848001Z"
    }
   },
   "outputs": [],
   "source": [
    "df[\"has_other_cards\"].value_counts(dropna=False).plot(kind=\"barh\")\n",
    "plt.title(\"Bar Plot for has_other_cards\")\n",
    "plt.show()"
   ]
  },
  {
   "cell_type": "markdown",
   "metadata": {},
   "source": [
    "The variable \"has_other_cards\" in a dataset typically represents whether an individual has other credit cards or not."
   ]
  },
  {
   "cell_type": "markdown",
   "metadata": {},
   "source": [
    "### foreign_request"
   ]
  },
  {
   "cell_type": "code",
   "execution_count": 44,
   "metadata": {
    "ExecuteTime": {
     "end_time": "2023-06-16T19:13:49.377985Z",
     "start_time": "2023-06-16T19:13:49.334102Z"
    }
   },
   "outputs": [],
   "source": [
    "df[\"foreign_request\"].value_counts(dropna=False)"
   ]
  },
  {
   "cell_type": "code",
   "execution_count": 45,
   "metadata": {
    "ExecuteTime": {
     "end_time": "2023-06-16T19:13:49.458441Z",
     "start_time": "2023-06-16T19:13:49.382547Z"
    }
   },
   "outputs": [],
   "source": [
    "df[\"foreign_request\"].value_counts(1, dropna=False)*100 "
   ]
  },
  {
   "cell_type": "code",
   "execution_count": 46,
   "metadata": {
    "ExecuteTime": {
     "end_time": "2023-06-16T19:13:49.908902Z",
     "start_time": "2023-06-16T19:13:49.465420Z"
    }
   },
   "outputs": [],
   "source": [
    "df[\"foreign_request\"].value_counts(dropna=False).plot(kind=\"barh\")\n",
    "plt.title(\"Bar Plot for foreign_request\")\n",
    "plt.show()"
   ]
  },
  {
   "cell_type": "raw",
   "metadata": {},
   "source": [
    "The variable \"foreign_request\" in a dataset typically represents whether a request or transaction is classified as foreign or related to a foreign entity.\n",
    "\n",
    "This variable is often a binary indicator that denotes whether a request or transaction originates from a foreign source (1) or not (0). It helps identify and differentiate requests or transactions that have a foreign origin or involve foreign entities."
   ]
  },
  {
   "cell_type": "markdown",
   "metadata": {},
   "source": [
    "### keep_alive_session"
   ]
  },
  {
   "cell_type": "code",
   "execution_count": 47,
   "metadata": {
    "ExecuteTime": {
     "end_time": "2023-06-16T19:13:49.955813Z",
     "start_time": "2023-06-16T19:13:49.914903Z"
    }
   },
   "outputs": [],
   "source": [
    "df[\"keep_alive_session\"].value_counts(dropna=False)"
   ]
  },
  {
   "cell_type": "code",
   "execution_count": 48,
   "metadata": {
    "ExecuteTime": {
     "end_time": "2023-06-16T19:13:50.044268Z",
     "start_time": "2023-06-16T19:13:49.963306Z"
    }
   },
   "outputs": [],
   "source": [
    "df[\"keep_alive_session\"].value_counts(1, dropna=False)*100 "
   ]
  },
  {
   "cell_type": "code",
   "execution_count": 49,
   "metadata": {
    "ExecuteTime": {
     "end_time": "2023-06-16T19:13:50.495169Z",
     "start_time": "2023-06-16T19:13:50.052751Z"
    }
   },
   "outputs": [],
   "source": [
    "df[\"keep_alive_session\"].value_counts(dropna=False).plot(kind=\"barh\")\n",
    "plt.title(\"Bar Plot for customer_age\")\n",
    "plt.show()"
   ]
  },
  {
   "cell_type": "markdown",
   "metadata": {},
   "source": [
    "### device_fraud_count"
   ]
  },
  {
   "cell_type": "code",
   "execution_count": 50,
   "metadata": {
    "ExecuteTime": {
     "end_time": "2023-06-16T19:13:50.543840Z",
     "start_time": "2023-06-16T19:13:50.496183Z"
    }
   },
   "outputs": [],
   "source": [
    "df[\"device_fraud_count\"].value_counts(dropna=False)"
   ]
  },
  {
   "cell_type": "code",
   "execution_count": 51,
   "metadata": {
    "ExecuteTime": {
     "end_time": "2023-06-16T19:13:50.616220Z",
     "start_time": "2023-06-16T19:13:50.545773Z"
    }
   },
   "outputs": [],
   "source": [
    "df[\"device_fraud_count\"].value_counts(1, dropna=False)*100 "
   ]
  },
  {
   "cell_type": "code",
   "execution_count": 52,
   "metadata": {
    "ExecuteTime": {
     "end_time": "2023-06-16T19:13:50.995362Z",
     "start_time": "2023-06-16T19:13:50.621598Z"
    }
   },
   "outputs": [],
   "source": [
    "df[\"device_fraud_count\"].value_counts(dropna=False).plot(kind=\"barh\")\n",
    "plt.title(\"Bar Plot for device_fraud_count\")\n",
    "plt.show()"
   ]
  },
  {
   "cell_type": "markdown",
   "metadata": {},
   "source": [
    "Since the \"device_fraud_count\" feature does not exhibit any variance in the data, meaning it contains only a single value or does not provide any distinguishing information, it would not contribute to the prediction or analysis tasks. Therefore, it is recommended to remove this feature from the dataset."
   ]
  },
  {
   "cell_type": "code",
   "execution_count": 53,
   "metadata": {
    "ExecuteTime": {
     "end_time": "2023-06-16T19:13:51.224595Z",
     "start_time": "2023-06-16T19:13:51.000808Z"
    }
   },
   "outputs": [],
   "source": [
    "df = df.drop(['device_fraud_count'], axis = 1)"
   ]
  },
  {
   "cell_type": "markdown",
   "metadata": {},
   "source": [
    "### month"
   ]
  },
  {
   "cell_type": "code",
   "execution_count": 54,
   "metadata": {
    "ExecuteTime": {
     "end_time": "2023-06-16T19:13:51.272808Z",
     "start_time": "2023-06-16T19:13:51.229330Z"
    }
   },
   "outputs": [],
   "source": [
    "df[\"month\"].value_counts(dropna=False)"
   ]
  },
  {
   "cell_type": "code",
   "execution_count": 55,
   "metadata": {
    "ExecuteTime": {
     "end_time": "2023-06-16T19:13:51.328920Z",
     "start_time": "2023-06-16T19:13:51.279914Z"
    }
   },
   "outputs": [],
   "source": [
    "df[\"month\"].value_counts(1, dropna=False)*100 "
   ]
  },
  {
   "cell_type": "code",
   "execution_count": 56,
   "metadata": {
    "ExecuteTime": {
     "end_time": "2023-06-16T19:13:51.922099Z",
     "start_time": "2023-06-16T19:13:51.330141Z"
    }
   },
   "outputs": [],
   "source": [
    "df[\"month\"].value_counts(dropna=False).plot(kind=\"barh\")\n",
    "plt.title(\"Bar Plot for month\")\n",
    "plt.show()"
   ]
  },
  {
   "cell_type": "markdown",
   "metadata": {},
   "source": [
    "## Numerical Data Analysis : Float"
   ]
  },
  {
   "cell_type": "code",
   "execution_count": 57,
   "metadata": {
    "ExecuteTime": {
     "end_time": "2023-06-16T19:13:52.035287Z",
     "start_time": "2023-06-16T19:13:51.922099Z"
    }
   },
   "outputs": [],
   "source": [
    "float_columns = df.select_dtypes(include=['float64']).columns.tolist()\n",
    "float_columns"
   ]
  },
  {
   "cell_type": "markdown",
   "metadata": {},
   "source": [
    "### Income"
   ]
  },
  {
   "cell_type": "code",
   "execution_count": 58,
   "metadata": {
    "ExecuteTime": {
     "end_time": "2023-06-16T19:13:52.149292Z",
     "start_time": "2023-06-16T19:13:52.039307Z"
    }
   },
   "outputs": [],
   "source": [
    "df[\"income\"].value_counts(dropna=False)"
   ]
  },
  {
   "cell_type": "code",
   "execution_count": 59,
   "metadata": {
    "ExecuteTime": {
     "end_time": "2023-06-16T19:13:52.210643Z",
     "start_time": "2023-06-16T19:13:52.149292Z"
    }
   },
   "outputs": [],
   "source": [
    "df[\"income\"].value_counts(1, dropna=False)*100 "
   ]
  },
  {
   "cell_type": "code",
   "execution_count": 60,
   "metadata": {
    "ExecuteTime": {
     "end_time": "2023-06-16T19:13:52.678298Z",
     "start_time": "2023-06-16T19:13:52.212531Z"
    }
   },
   "outputs": [],
   "source": [
    "df[\"income\"].value_counts(dropna=False).plot(kind=\"barh\")\n",
    "plt.title(\"Bar Plot for Income\")\n",
    "plt.show()"
   ]
  },
  {
   "cell_type": "markdown",
   "metadata": {},
   "source": [
    "### device_distinct_emails_8w"
   ]
  },
  {
   "cell_type": "code",
   "execution_count": 61,
   "metadata": {
    "ExecuteTime": {
     "end_time": "2023-06-16T19:13:52.725400Z",
     "start_time": "2023-06-16T19:13:52.679384Z"
    }
   },
   "outputs": [],
   "source": [
    "df[\"device_distinct_emails_8w\"].value_counts(dropna=False)"
   ]
  },
  {
   "cell_type": "code",
   "execution_count": 62,
   "metadata": {
    "ExecuteTime": {
     "end_time": "2023-06-16T19:13:52.825821Z",
     "start_time": "2023-06-16T19:13:52.726214Z"
    }
   },
   "outputs": [],
   "source": [
    "df[\"device_distinct_emails_8w\"].value_counts(1, dropna=False)*100 "
   ]
  },
  {
   "cell_type": "code",
   "execution_count": 63,
   "metadata": {
    "ExecuteTime": {
     "end_time": "2023-06-16T19:13:53.365080Z",
     "start_time": "2023-06-16T19:13:52.829474Z"
    }
   },
   "outputs": [],
   "source": [
    "df[\"device_distinct_emails_8w\"].value_counts(dropna=False).plot(kind=\"barh\")\n",
    "plt.title(\"Bar Plot for device_distinct_emails_8w\")\n",
    "plt.show()"
   ]
  },
  {
   "cell_type": "markdown",
   "metadata": {},
   "source": [
    "## Outliers Analysis"
   ]
  },
  {
   "cell_type": "code",
   "execution_count": 64,
   "metadata": {
    "ExecuteTime": {
     "end_time": "2023-06-16T19:13:53.459748Z",
     "start_time": "2023-06-16T19:13:53.366899Z"
    }
   },
   "outputs": [],
   "source": [
    "df[['name_email_similarity',\n",
    " 'current_address_months_count',\n",
    " 'days_since_request',\n",
    " 'velocity_6h',\n",
    " 'velocity_24h',\n",
    " 'velocity_4w',\n",
    " 'credit_risk_score',\n",
    " 'bank_months_count',\n",
    " 'proposed_credit_limit',\n",
    " 'session_length_in_minutes']]"
   ]
  },
  {
   "cell_type": "code",
   "execution_count": 65,
   "metadata": {
    "ExecuteTime": {
     "end_time": "2023-06-16T19:13:53.475531Z",
     "start_time": "2023-06-16T19:13:53.459748Z"
    }
   },
   "outputs": [],
   "source": [
    "f_l=['name_email_similarity',\n",
    " 'current_address_months_count',\n",
    " 'days_since_request',\n",
    " 'velocity_6h',\n",
    " 'velocity_24h',\n",
    " 'velocity_4w',\n",
    " 'credit_risk_score',\n",
    " 'proposed_credit_limit',\n",
    " 'session_length_in_minutes']"
   ]
  },
  {
   "cell_type": "markdown",
   "metadata": {},
   "source": [
    "### Indetification of Outliers"
   ]
  },
  {
   "cell_type": "code",
   "execution_count": 66,
   "metadata": {
    "ExecuteTime": {
     "end_time": "2023-06-16T19:13:58.841354Z",
     "start_time": "2023-06-16T19:13:53.479375Z"
    }
   },
   "outputs": [],
   "source": [
    "# Create a box plot for each float variable\n",
    "for col in f_l:\n",
    "    sns.boxplot(df[col])\n",
    "    plt.title(col)\n",
    "    plt.show()"
   ]
  },
  {
   "cell_type": "code",
   "execution_count": 67,
   "metadata": {
    "ExecuteTime": {
     "end_time": "2023-06-16T19:13:58.857256Z",
     "start_time": "2023-06-16T19:13:58.847180Z"
    }
   },
   "outputs": [],
   "source": [
    "Columns_with_Outliers=['current_address_months_count',\n",
    " 'days_since_request',\n",
    " 'intended_balcon_amount',\n",
    " 'velocity_6h',\n",
    " 'velocity_24h',\n",
    " 'credit_risk_score',\n",
    " 'bank_months_count',\n",
    " 'proposed_credit_limit',\n",
    " 'session_length_in_minutes']\n",
    "\n",
    "Columns_without_Outliers = ['name_email_similarity','velocity_4w','bank_months_count']"
   ]
  },
  {
   "cell_type": "raw",
   "metadata": {
    "ExecuteTime": {
     "end_time": "2023-06-10T10:41:58.311369Z",
     "start_time": "2023-06-10T10:41:58.301736Z"
    }
   },
   "source": [
    "In the given dataset, the following columns are identified as having outliers:\n",
    "\n",
    "current_address_months_count\n",
    "days_since_request\n",
    "velocity_6h\n",
    "velocity_24h\n",
    "credit_risk_score\n",
    "bank_months_count\n",
    "proposed_credit_limit\n",
    "session_length_in_minutes\n",
    "These columns exhibit values that deviate significantly from the majority of the data points and may have a disproportionate impact on analysis or modeling results. It is important to handle these outliers appropriately to avoid bias or distortion in the interpretation of the data.\n",
    "\n",
    "On the other hand, the following columns are identified as not having outliers:\n",
    "\n",
    "name_email_similarity\n",
    "velocity_4w\n",
    "bank_months_count\n",
    "These columns are relatively free from extreme values that could potentially skew the analysis or modeling process. Their distributions are more centered and do not display significant deviations from the majority of the data points.\n",
    "\n",
    "Understanding which columns have outliers and which ones do not helps in deciding how to handle and interpret the data effectively, ensuring more accurate and reliable results in subsequent analyses or modeling tasks."
   ]
  },
  {
   "cell_type": "markdown",
   "metadata": {},
   "source": [
    "### Outlier Treatment"
   ]
  },
  {
   "cell_type": "code",
   "execution_count": 68,
   "metadata": {
    "ExecuteTime": {
     "end_time": "2023-06-16T19:13:58.935458Z",
     "start_time": "2023-06-16T19:13:58.857256Z"
    }
   },
   "outputs": [],
   "source": [
    "columns_to_impute_outliers=['current_address_months_count',\n",
    " 'days_since_request',\n",
    " 'velocity_6h',\n",
    " 'velocity_24h',\n",
    " 'credit_risk_score',\n",
    " 'bank_months_count',\n",
    " 'proposed_credit_limit',\n",
    " 'session_length_in_minutes']"
   ]
  },
  {
   "cell_type": "code",
   "execution_count": 69,
   "metadata": {
    "ExecuteTime": {
     "end_time": "2023-06-16T19:14:00.268489Z",
     "start_time": "2023-06-16T19:13:58.935458Z"
    }
   },
   "outputs": [],
   "source": [
    "def impute_outliers_with_median(df, columns, threshold=3):\n",
    "    for column in columns:\n",
    "        # Calculate the median of the column\n",
    "        median = df[column].median()\n",
    "        \n",
    "        # Calculate the absolute deviation from the median\n",
    "        median_deviation = np.abs(df[column] - median)\n",
    "        \n",
    "        # Identify the outliers based on the specified threshold\n",
    "        outliers = df[median_deviation > threshold * median_deviation.median()]\n",
    "        \n",
    "        # Impute the outlier values with the median\n",
    "        df.loc[outliers.index, column] = median\n",
    "    \n",
    "    return df\n",
    "\n",
    "# Example usage\n",
    "# Assuming df is your pandas DataFrame and columns_to_impute_outliers is a list of column names\n",
    "\n",
    "df = impute_outliers_with_median(df, columns_to_impute_outliers)\n"
   ]
  },
  {
   "cell_type": "code",
   "execution_count": 70,
   "metadata": {
    "ExecuteTime": {
     "end_time": "2023-06-16T19:14:00.988590Z",
     "start_time": "2023-06-16T19:14:00.271137Z"
    }
   },
   "outputs": [],
   "source": [
    "df"
   ]
  },
  {
   "cell_type": "markdown",
   "metadata": {},
   "source": [
    "### After Removing Outliers using Z score"
   ]
  },
  {
   "cell_type": "code",
   "execution_count": 71,
   "metadata": {
    "ExecuteTime": {
     "end_time": "2023-06-16T19:14:05.065849Z",
     "start_time": "2023-06-16T19:14:00.988590Z"
    }
   },
   "outputs": [],
   "source": [
    "# Create a box plot for each float variable\n",
    "for col in f_l:\n",
    "    sns.boxplot(df[col])\n",
    "    plt.title(col)\n",
    "    plt.show()"
   ]
  },
  {
   "cell_type": "markdown",
   "metadata": {},
   "source": [
    "## Distribution Plots"
   ]
  },
  {
   "cell_type": "code",
   "execution_count": 72,
   "metadata": {
    "ExecuteTime": {
     "end_time": "2023-06-16T19:14:05.097381Z",
     "start_time": "2023-06-16T19:14:05.065849Z"
    }
   },
   "outputs": [],
   "source": [
    "'''\n",
    "import seaborn as sns\n",
    "\n",
    "# Iterate over each column with continuous numerical data\n",
    "for column in float_columns:\n",
    "    # Plot the distribution for the current column\n",
    "    sns.histplot(df[column], kde=True)\n",
    "    sns.kdeplot(df[column])\n",
    "    \n",
    "    # Add plot title and labels\n",
    "    plt.title(f\"Distribution of {column}\")\n",
    "    plt.xlabel(column)\n",
    "    plt.ylabel(\"Density\")\n",
    "    \n",
    "    # Show the plot\n",
    "    plt.show()\n",
    "'''"
   ]
  },
  {
   "cell_type": "markdown",
   "metadata": {},
   "source": [
    "## Categorical Data Analysis"
   ]
  },
  {
   "cell_type": "code",
   "execution_count": 73,
   "metadata": {
    "ExecuteTime": {
     "end_time": "2023-06-16T19:14:05.239103Z",
     "start_time": "2023-06-16T19:14:05.099458Z"
    }
   },
   "outputs": [],
   "source": [
    "object_columns = df.select_dtypes(include=['object']).columns.tolist()\n",
    "object_columns"
   ]
  },
  {
   "cell_type": "markdown",
   "metadata": {},
   "source": [
    "### payment_type"
   ]
  },
  {
   "cell_type": "code",
   "execution_count": 74,
   "metadata": {
    "ExecuteTime": {
     "end_time": "2023-06-16T19:14:05.456375Z",
     "start_time": "2023-06-16T19:14:05.239103Z"
    }
   },
   "outputs": [],
   "source": [
    "df[\"payment_type\"].value_counts(dropna=False)"
   ]
  },
  {
   "cell_type": "code",
   "execution_count": 75,
   "metadata": {
    "ExecuteTime": {
     "end_time": "2023-06-16T19:14:05.679270Z",
     "start_time": "2023-06-16T19:14:05.460892Z"
    }
   },
   "outputs": [],
   "source": [
    "df[\"payment_type\"].value_counts(1, dropna=False)*100 "
   ]
  },
  {
   "cell_type": "code",
   "execution_count": 76,
   "metadata": {
    "ExecuteTime": {
     "end_time": "2023-06-16T19:14:06.288133Z",
     "start_time": "2023-06-16T19:14:05.679270Z"
    }
   },
   "outputs": [],
   "source": [
    "df[\"payment_type\"].value_counts(dropna=False).plot(kind=\"barh\")\n",
    "plt.title(\"Bar Plot for payment_type\")\n",
    "plt.show()"
   ]
  },
  {
   "cell_type": "markdown",
   "metadata": {},
   "source": [
    "### employment_status"
   ]
  },
  {
   "cell_type": "code",
   "execution_count": 77,
   "metadata": {
    "ExecuteTime": {
     "end_time": "2023-06-16T19:14:06.474961Z",
     "start_time": "2023-06-16T19:14:06.288133Z"
    }
   },
   "outputs": [],
   "source": [
    "df[\"employment_status\"].value_counts(dropna=False)"
   ]
  },
  {
   "cell_type": "code",
   "execution_count": 78,
   "metadata": {
    "ExecuteTime": {
     "end_time": "2023-06-16T19:14:06.648803Z",
     "start_time": "2023-06-16T19:14:06.474961Z"
    }
   },
   "outputs": [],
   "source": [
    "df[\"employment_status\"].value_counts(1, dropna=False)*100"
   ]
  },
  {
   "cell_type": "code",
   "execution_count": 79,
   "metadata": {
    "ExecuteTime": {
     "end_time": "2023-06-16T19:14:07.341408Z",
     "start_time": "2023-06-16T19:14:06.648803Z"
    }
   },
   "outputs": [],
   "source": [
    "df[\"employment_status\"].value_counts(dropna=False).plot(kind=\"barh\")\n",
    "plt.title(\"Bar Plot for employment_status\")\n",
    "plt.show()"
   ]
  },
  {
   "cell_type": "markdown",
   "metadata": {},
   "source": [
    "### housing_status"
   ]
  },
  {
   "cell_type": "code",
   "execution_count": 80,
   "metadata": {
    "ExecuteTime": {
     "end_time": "2023-06-16T19:14:07.541585Z",
     "start_time": "2023-06-16T19:14:07.341408Z"
    }
   },
   "outputs": [],
   "source": [
    "df[\"housing_status\"].value_counts(dropna=False)"
   ]
  },
  {
   "cell_type": "code",
   "execution_count": 81,
   "metadata": {
    "ExecuteTime": {
     "end_time": "2023-06-16T19:14:07.730850Z",
     "start_time": "2023-06-16T19:14:07.541585Z"
    }
   },
   "outputs": [],
   "source": [
    "df[\"housing_status\"].value_counts(1, dropna=False)*100 "
   ]
  },
  {
   "cell_type": "code",
   "execution_count": 82,
   "metadata": {
    "ExecuteTime": {
     "end_time": "2023-06-16T19:14:08.407294Z",
     "start_time": "2023-06-16T19:14:07.732976Z"
    }
   },
   "outputs": [],
   "source": [
    "df[\"housing_status\"].value_counts(dropna=False).plot(kind=\"barh\")\n",
    "plt.title(\"Bar Plot for housing_status\")\n",
    "plt.show()"
   ]
  },
  {
   "cell_type": "markdown",
   "metadata": {},
   "source": [
    "### source"
   ]
  },
  {
   "cell_type": "code",
   "execution_count": 83,
   "metadata": {
    "ExecuteTime": {
     "end_time": "2023-06-16T19:14:08.606316Z",
     "start_time": "2023-06-16T19:14:08.407294Z"
    }
   },
   "outputs": [],
   "source": [
    "df[\"source\"].value_counts(dropna=False)"
   ]
  },
  {
   "cell_type": "code",
   "execution_count": 84,
   "metadata": {
    "ExecuteTime": {
     "end_time": "2023-06-16T19:14:08.875009Z",
     "start_time": "2023-06-16T19:14:08.606316Z"
    }
   },
   "outputs": [],
   "source": [
    "df[\"source\"].value_counts(1, dropna=False)*100 "
   ]
  },
  {
   "cell_type": "code",
   "execution_count": 85,
   "metadata": {
    "ExecuteTime": {
     "end_time": "2023-06-16T19:14:09.483848Z",
     "start_time": "2023-06-16T19:14:08.878328Z"
    }
   },
   "outputs": [],
   "source": [
    "df[\"source\"].value_counts(dropna=False).plot(kind=\"barh\")\n",
    "plt.title(\"Bar Plot for source\")\n",
    "plt.show()"
   ]
  },
  {
   "cell_type": "markdown",
   "metadata": {},
   "source": [
    "### device_os"
   ]
  },
  {
   "cell_type": "code",
   "execution_count": 86,
   "metadata": {
    "ExecuteTime": {
     "end_time": "2023-06-16T19:14:09.642060Z",
     "start_time": "2023-06-16T19:14:09.485919Z"
    }
   },
   "outputs": [],
   "source": [
    "df[\"device_os\"].value_counts(dropna=False)"
   ]
  },
  {
   "cell_type": "code",
   "execution_count": 87,
   "metadata": {
    "ExecuteTime": {
     "end_time": "2023-06-16T19:14:09.904210Z",
     "start_time": "2023-06-16T19:14:09.642060Z"
    }
   },
   "outputs": [],
   "source": [
    "df[\"device_os\"].value_counts(1, dropna=False)*100 "
   ]
  },
  {
   "cell_type": "code",
   "execution_count": 88,
   "metadata": {
    "ExecuteTime": {
     "end_time": "2023-06-16T19:14:10.584512Z",
     "start_time": "2023-06-16T19:14:09.904210Z"
    }
   },
   "outputs": [],
   "source": [
    "df[\"device_os\"].value_counts(dropna=False).plot(kind=\"barh\")\n",
    "plt.title(\"Bar Plot for device_os\")\n",
    "plt.show()"
   ]
  },
  {
   "cell_type": "markdown",
   "metadata": {},
   "source": [
    "# Bivariate Analysis"
   ]
  },
  {
   "cell_type": "code",
   "execution_count": 89,
   "metadata": {
    "ExecuteTime": {
     "end_time": "2023-06-16T19:14:10.897175Z",
     "start_time": "2023-06-16T19:14:10.584512Z"
    }
   },
   "outputs": [],
   "source": [
    "int_columns = df.select_dtypes(include=['int64']).columns.tolist()\n",
    "float_columns = df.select_dtypes(include=['float64']).columns.tolist()\n",
    "object_columns = df.select_dtypes(include=['object']).columns.tolist()\n",
    "\n",
    "print(\"Int columns:\", int_columns)\n",
    "print(\"\\n\")\n",
    "print(\"Float columns:\", float_columns)\n",
    "print(\"\\n\")\n",
    "print(\"Object columns:\", object_columns)"
   ]
  },
  {
   "cell_type": "code",
   "execution_count": 90,
   "metadata": {
    "ExecuteTime": {
     "end_time": "2023-06-16T19:14:10.912747Z",
     "start_time": "2023-06-16T19:14:10.900811Z"
    }
   },
   "outputs": [],
   "source": [
    "num_cols=['fraud_bool', 'customer_age', 'zip_count_4w', 'bank_branch_count_8w', 'date_of_birth_distinct_emails_4w', 'email_is_free', 'phone_home_valid', 'phone_mobile_valid', 'has_other_cards', 'foreign_request', 'keep_alive_session', 'month','income', 'name_email_similarity', 'current_address_months_count', 'days_since_request', 'velocity_6h', 'velocity_24h', 'velocity_4w', 'credit_risk_score', 'bank_months_count', 'proposed_credit_limit', 'session_length_in_minutes', 'device_distinct_emails_8w']"
   ]
  },
  {
   "cell_type": "markdown",
   "metadata": {},
   "source": [
    "## Correlation Graph"
   ]
  },
  {
   "cell_type": "code",
   "execution_count": 91,
   "metadata": {
    "ExecuteTime": {
     "end_time": "2023-06-16T19:14:27.391536Z",
     "start_time": "2023-06-16T19:14:10.917372Z"
    }
   },
   "outputs": [],
   "source": [
    "# Create a heatmap of the correlation matrix\n",
    "corr =  df[num_cols].corr().round(2)\n",
    "plt.figure(figsize = (15,10))\n",
    "sns.heatmap(corr, annot = True)"
   ]
  },
  {
   "cell_type": "markdown",
   "metadata": {},
   "source": [
    "## Stacked Bar Graphs"
   ]
  },
  {
   "cell_type": "code",
   "execution_count": 92,
   "metadata": {
    "ExecuteTime": {
     "end_time": "2023-06-16T19:14:27.423191Z",
     "start_time": "2023-06-16T19:14:27.407489Z"
    }
   },
   "outputs": [],
   "source": [
    "cat_cols=['payment_type', 'employment_status', 'housing_status', 'source', 'device_os']"
   ]
  },
  {
   "cell_type": "code",
   "execution_count": 93,
   "metadata": {
    "ExecuteTime": {
     "end_time": "2023-06-16T19:14:38.100310Z",
     "start_time": "2023-06-16T19:14:27.423191Z"
    }
   },
   "outputs": [],
   "source": [
    "# Create a cross-tabulation of two categorical variables\n",
    "for i in range(len(cat_cols)):\n",
    "    for j in range(i+1, len(cat_cols)):\n",
    "        ct = pd.crosstab(df[cat_cols[i]], df[cat_cols[j]])\n",
    "        ct.plot(kind='bar', stacked=True)\n",
    "        plt.title('{} vs. {}'.format(cat_cols[i], cat_cols[j]))\n",
    "        plt.xticks(rotation=0)\n",
    "        plt.show()"
   ]
  },
  {
   "cell_type": "markdown",
   "metadata": {},
   "source": [
    "## Analysis with respect to Target"
   ]
  },
  {
   "cell_type": "code",
   "execution_count": 94,
   "metadata": {
    "ExecuteTime": {
     "end_time": "2023-06-16T19:14:38.132086Z",
     "start_time": "2023-06-16T19:14:38.100310Z"
    }
   },
   "outputs": [],
   "source": [
    "df.columns"
   ]
  },
  {
   "cell_type": "markdown",
   "metadata": {},
   "source": [
    "### income"
   ]
  },
  {
   "cell_type": "code",
   "execution_count": 95,
   "metadata": {
    "ExecuteTime": {
     "end_time": "2023-06-16T19:14:38.461073Z",
     "start_time": "2023-06-16T19:14:38.132086Z"
    }
   },
   "outputs": [],
   "source": [
    "pd.crosstab(df[\"income\"], df[\"fraud_bool\"], normalize=\"index\")*100"
   ]
  },
  {
   "cell_type": "code",
   "execution_count": 96,
   "metadata": {
    "ExecuteTime": {
     "end_time": "2023-06-16T19:14:39.275456Z",
     "start_time": "2023-06-16T19:14:38.462911Z"
    }
   },
   "outputs": [],
   "source": [
    "pd.crosstab(df[\"income\"], df[\"fraud_bool\"]).plot(kind=\"bar\", figsize=(5, 5), stacked=True)\n",
    "plt.title(\"income Against fraud_bool\", fontsize=15);\n",
    "plt.show()"
   ]
  },
  {
   "cell_type": "markdown",
   "metadata": {},
   "source": [
    "### customer_age"
   ]
  },
  {
   "cell_type": "code",
   "execution_count": 97,
   "metadata": {
    "ExecuteTime": {
     "end_time": "2023-06-16T19:14:39.541632Z",
     "start_time": "2023-06-16T19:14:39.275456Z"
    }
   },
   "outputs": [],
   "source": [
    "pd.crosstab(df[\"customer_age\"], df[\"fraud_bool\"], normalize=\"index\")*100"
   ]
  },
  {
   "cell_type": "code",
   "execution_count": 98,
   "metadata": {
    "ExecuteTime": {
     "end_time": "2023-06-16T19:14:40.403893Z",
     "start_time": "2023-06-16T19:14:39.541632Z"
    }
   },
   "outputs": [],
   "source": [
    "pd.crosstab(df[\"customer_age\"], df[\"fraud_bool\"]).plot(kind=\"bar\", figsize=(5, 5), stacked=True)\n",
    "plt.title(\"customer_age Against fraud_bool\", fontsize=15);\n",
    "plt.show()"
   ]
  },
  {
   "cell_type": "markdown",
   "metadata": {},
   "source": [
    "###  zip_count_4w"
   ]
  },
  {
   "cell_type": "code",
   "execution_count": 99,
   "metadata": {
    "ExecuteTime": {
     "end_time": "2023-06-16T19:14:40.998366Z",
     "start_time": "2023-06-16T19:14:40.403893Z"
    }
   },
   "outputs": [],
   "source": [
    "pd.crosstab(df[\"zip_count_4w\"], df[\"fraud_bool\"], normalize=\"index\")*100"
   ]
  },
  {
   "cell_type": "markdown",
   "metadata": {},
   "source": [
    "### bank_branch_count_8w"
   ]
  },
  {
   "cell_type": "code",
   "execution_count": 100,
   "metadata": {
    "ExecuteTime": {
     "end_time": "2023-06-16T19:14:41.377404Z",
     "start_time": "2023-06-16T19:14:40.998366Z"
    }
   },
   "outputs": [],
   "source": [
    "pd.crosstab(df[\"bank_branch_count_8w\"], df[\"fraud_bool\"], normalize=\"index\")*100"
   ]
  },
  {
   "cell_type": "markdown",
   "metadata": {},
   "source": [
    "### date_of_birth_distinct_emails_4w"
   ]
  },
  {
   "cell_type": "code",
   "execution_count": 101,
   "metadata": {
    "ExecuteTime": {
     "end_time": "2023-06-16T19:14:41.657803Z",
     "start_time": "2023-06-16T19:14:41.377404Z"
    }
   },
   "outputs": [],
   "source": [
    "pd.crosstab(df[\"date_of_birth_distinct_emails_4w\"], df[\"fraud_bool\"], normalize=\"index\")*100"
   ]
  },
  {
   "cell_type": "code",
   "execution_count": 102,
   "metadata": {
    "ExecuteTime": {
     "end_time": "2023-06-16T19:14:43.744480Z",
     "start_time": "2023-06-16T19:14:41.657803Z"
    }
   },
   "outputs": [],
   "source": [
    "pd.crosstab(df[\"date_of_birth_distinct_emails_4w\"], df[\"fraud_bool\"]).plot(kind=\"bar\", figsize=(5, 5), stacked=True)\n",
    "plt.title(\"date_of_birth_distinct_emails_4w Against fraud_bool\", fontsize=15);\n",
    "plt.show()"
   ]
  },
  {
   "cell_type": "markdown",
   "metadata": {},
   "source": [
    "### email_is_free"
   ]
  },
  {
   "cell_type": "code",
   "execution_count": 103,
   "metadata": {
    "ExecuteTime": {
     "end_time": "2023-06-16T19:14:44.043591Z",
     "start_time": "2023-06-16T19:14:43.744480Z"
    }
   },
   "outputs": [],
   "source": [
    "pd.crosstab(df[\"email_is_free\"], df[\"fraud_bool\"], normalize=\"index\")*100"
   ]
  },
  {
   "cell_type": "code",
   "execution_count": 104,
   "metadata": {
    "ExecuteTime": {
     "end_time": "2023-06-16T19:14:44.652923Z",
     "start_time": "2023-06-16T19:14:44.046475Z"
    }
   },
   "outputs": [],
   "source": [
    "pd.crosstab(df[\"email_is_free\"], df[\"fraud_bool\"]).plot(kind=\"bar\", figsize=(5, 5), stacked=True)\n",
    "plt.title(\"email_is_free Against fraud_bool\", fontsize=15);\n",
    "plt.show()"
   ]
  },
  {
   "cell_type": "markdown",
   "metadata": {},
   "source": [
    "### phone_home_valid"
   ]
  },
  {
   "cell_type": "code",
   "execution_count": 105,
   "metadata": {
    "ExecuteTime": {
     "end_time": "2023-06-16T19:14:44.906310Z",
     "start_time": "2023-06-16T19:14:44.652923Z"
    }
   },
   "outputs": [],
   "source": [
    "pd.crosstab(df[\"phone_home_valid\"], df[\"fraud_bool\"], normalize=\"index\")*100"
   ]
  },
  {
   "cell_type": "code",
   "execution_count": 106,
   "metadata": {
    "ExecuteTime": {
     "end_time": "2023-06-16T19:14:45.627825Z",
     "start_time": "2023-06-16T19:14:44.906310Z"
    }
   },
   "outputs": [],
   "source": [
    "pd.crosstab(df[\"phone_home_valid\"], df[\"fraud_bool\"]).plot(kind=\"bar\", figsize=(5, 5), stacked=True)\n",
    "plt.title(\"phone_home_valid Against fraud_bool\", fontsize=15);\n",
    "plt.show()"
   ]
  },
  {
   "cell_type": "markdown",
   "metadata": {},
   "source": [
    "### has_other_cards"
   ]
  },
  {
   "cell_type": "code",
   "execution_count": 107,
   "metadata": {
    "ExecuteTime": {
     "end_time": "2023-06-16T19:14:45.900792Z",
     "start_time": "2023-06-16T19:14:45.631398Z"
    }
   },
   "outputs": [],
   "source": [
    "pd.crosstab(df[\"has_other_cards\"], df[\"fraud_bool\"], normalize=\"index\")*100"
   ]
  },
  {
   "cell_type": "code",
   "execution_count": 108,
   "metadata": {
    "ExecuteTime": {
     "end_time": "2023-06-16T19:14:46.536343Z",
     "start_time": "2023-06-16T19:14:45.905675Z"
    }
   },
   "outputs": [],
   "source": [
    "pd.crosstab(df[\"has_other_cards\"], df[\"fraud_bool\"]).plot(kind=\"bar\", figsize=(5, 5), stacked=True)\n",
    "plt.title(\"has_other_cards Against fraud_bool\", fontsize=15);\n",
    "plt.show()"
   ]
  },
  {
   "cell_type": "markdown",
   "metadata": {},
   "source": [
    "### foreign_request"
   ]
  },
  {
   "cell_type": "code",
   "execution_count": 109,
   "metadata": {
    "ExecuteTime": {
     "end_time": "2023-06-16T19:14:46.784499Z",
     "start_time": "2023-06-16T19:14:46.536343Z"
    }
   },
   "outputs": [],
   "source": [
    "pd.crosstab(df[\"foreign_request\"], df[\"fraud_bool\"], normalize=\"index\")*100"
   ]
  },
  {
   "cell_type": "code",
   "execution_count": 110,
   "metadata": {
    "ExecuteTime": {
     "end_time": "2023-06-16T19:14:47.601729Z",
     "start_time": "2023-06-16T19:14:46.784499Z"
    }
   },
   "outputs": [],
   "source": [
    "pd.crosstab(df[\"foreign_request\"], df[\"fraud_bool\"]).plot(kind=\"bar\", figsize=(5, 5), stacked=True)\n",
    "plt.title(\"foreign_request Against fraud_bool\", fontsize=15);\n",
    "plt.show()"
   ]
  },
  {
   "cell_type": "markdown",
   "metadata": {},
   "source": [
    "### keep_alive_session"
   ]
  },
  {
   "cell_type": "code",
   "execution_count": 111,
   "metadata": {
    "ExecuteTime": {
     "end_time": "2023-06-16T19:14:47.888193Z",
     "start_time": "2023-06-16T19:14:47.605961Z"
    }
   },
   "outputs": [],
   "source": [
    "pd.crosstab(df[\"keep_alive_session\"], df[\"fraud_bool\"], normalize=\"index\")*100"
   ]
  },
  {
   "cell_type": "code",
   "execution_count": 112,
   "metadata": {
    "ExecuteTime": {
     "end_time": "2023-06-16T19:14:48.575536Z",
     "start_time": "2023-06-16T19:14:47.888706Z"
    }
   },
   "outputs": [],
   "source": [
    "pd.crosstab(df[\"keep_alive_session\"], df[\"fraud_bool\"]).plot(kind=\"bar\", figsize=(5, 5), stacked=True)\n",
    "plt.title(\"keep_alive_session Against fraud_bool\", fontsize=15);\n",
    "plt.show()"
   ]
  },
  {
   "cell_type": "markdown",
   "metadata": {},
   "source": [
    "### month"
   ]
  },
  {
   "cell_type": "code",
   "execution_count": 113,
   "metadata": {
    "ExecuteTime": {
     "end_time": "2023-06-16T19:14:48.854126Z",
     "start_time": "2023-06-16T19:14:48.575536Z"
    }
   },
   "outputs": [],
   "source": [
    "pd.crosstab(df[\"month\"], df[\"fraud_bool\"], normalize=\"index\")*100"
   ]
  },
  {
   "cell_type": "code",
   "execution_count": 114,
   "metadata": {
    "ExecuteTime": {
     "end_time": "2023-06-16T19:14:49.685950Z",
     "start_time": "2023-06-16T19:14:48.856912Z"
    }
   },
   "outputs": [],
   "source": [
    "pd.crosstab(df[\"month\"], df[\"fraud_bool\"]).plot(kind=\"bar\", figsize=(5, 5), stacked=True)\n",
    "plt.title(\"month Against fraud_bool\", fontsize=15);\n",
    "plt.show()"
   ]
  },
  {
   "cell_type": "markdown",
   "metadata": {},
   "source": [
    "### device_distinct_emails_8w"
   ]
  },
  {
   "cell_type": "code",
   "execution_count": 115,
   "metadata": {
    "ExecuteTime": {
     "end_time": "2023-06-16T19:14:49.935548Z",
     "start_time": "2023-06-16T19:14:49.685950Z"
    }
   },
   "outputs": [],
   "source": [
    "pd.crosstab(df[\"device_distinct_emails_8w\"], df[\"fraud_bool\"], normalize=\"index\")*100"
   ]
  },
  {
   "cell_type": "code",
   "execution_count": 116,
   "metadata": {
    "ExecuteTime": {
     "end_time": "2023-06-16T19:14:50.594437Z",
     "start_time": "2023-06-16T19:14:49.935548Z"
    }
   },
   "outputs": [],
   "source": [
    "pd.crosstab(df[\"device_distinct_emails_8w\"], df[\"fraud_bool\"]).plot(kind=\"bar\", figsize=(5, 5), stacked=True)\n",
    "plt.title(\"device_distinct_emails_8w Against fraud_bool\", fontsize=15);\n",
    "plt.show()"
   ]
  },
  {
   "cell_type": "markdown",
   "metadata": {},
   "source": [
    "### payment_type"
   ]
  },
  {
   "cell_type": "code",
   "execution_count": 117,
   "metadata": {
    "ExecuteTime": {
     "end_time": "2023-06-16T19:14:50.940842Z",
     "start_time": "2023-06-16T19:14:50.594437Z"
    }
   },
   "outputs": [],
   "source": [
    "pd.crosstab(df[\"payment_type\"], df[\"fraud_bool\"], normalize=\"index\")*100"
   ]
  },
  {
   "cell_type": "code",
   "execution_count": 118,
   "metadata": {
    "ExecuteTime": {
     "end_time": "2023-06-16T19:14:51.754762Z",
     "start_time": "2023-06-16T19:14:50.940842Z"
    }
   },
   "outputs": [],
   "source": [
    "pd.crosstab(df[\"payment_type\"], df[\"fraud_bool\"]).plot(kind=\"bar\", figsize=(5, 5), stacked=True)\n",
    "plt.title(\"payment_type Against fraud_bool\", fontsize=15);\n",
    "plt.show()"
   ]
  },
  {
   "cell_type": "markdown",
   "metadata": {},
   "source": [
    "### employment_status"
   ]
  },
  {
   "cell_type": "code",
   "execution_count": 119,
   "metadata": {
    "ExecuteTime": {
     "end_time": "2023-06-16T19:14:52.100340Z",
     "start_time": "2023-06-16T19:14:51.758931Z"
    }
   },
   "outputs": [],
   "source": [
    "pd.crosstab(df[\"employment_status\"], df[\"fraud_bool\"], normalize=\"index\")*100"
   ]
  },
  {
   "cell_type": "code",
   "execution_count": 120,
   "metadata": {
    "ExecuteTime": {
     "end_time": "2023-06-16T19:14:52.993858Z",
     "start_time": "2023-06-16T19:14:52.100340Z"
    }
   },
   "outputs": [],
   "source": [
    "pd.crosstab(df[\"employment_status\"], df[\"fraud_bool\"]).plot(kind=\"bar\", figsize=(5, 5), stacked=True)\n",
    "plt.title(\"employment_status Against fraud_bool\", fontsize=15);\n",
    "plt.show()"
   ]
  },
  {
   "cell_type": "markdown",
   "metadata": {},
   "source": [
    "### housing_status"
   ]
  },
  {
   "cell_type": "code",
   "execution_count": 121,
   "metadata": {
    "ExecuteTime": {
     "end_time": "2023-06-16T19:14:53.386271Z",
     "start_time": "2023-06-16T19:14:52.999758Z"
    }
   },
   "outputs": [],
   "source": [
    "pd.crosstab(df[\"housing_status\"], df[\"fraud_bool\"], normalize=\"index\")*100"
   ]
  },
  {
   "cell_type": "code",
   "execution_count": 122,
   "metadata": {
    "ExecuteTime": {
     "end_time": "2023-06-16T19:14:54.274277Z",
     "start_time": "2023-06-16T19:14:53.386271Z"
    }
   },
   "outputs": [],
   "source": [
    "pd.crosstab(df[\"housing_status\"], df[\"fraud_bool\"]).plot(kind=\"bar\", figsize=(5, 5), stacked=True)\n",
    "plt.title(\"housing_status Against fraud_bool\", fontsize=15);\n",
    "plt.show()"
   ]
  },
  {
   "cell_type": "markdown",
   "metadata": {},
   "source": [
    "### source"
   ]
  },
  {
   "cell_type": "code",
   "execution_count": 123,
   "metadata": {
    "ExecuteTime": {
     "end_time": "2023-06-16T19:14:54.620693Z",
     "start_time": "2023-06-16T19:14:54.274277Z"
    }
   },
   "outputs": [],
   "source": [
    "pd.crosstab(df[\"source\"], df[\"fraud_bool\"], normalize=\"index\")*100"
   ]
  },
  {
   "cell_type": "code",
   "execution_count": 124,
   "metadata": {
    "ExecuteTime": {
     "end_time": "2023-06-16T19:14:55.345605Z",
     "start_time": "2023-06-16T19:14:54.625015Z"
    }
   },
   "outputs": [],
   "source": [
    "pd.crosstab(df[\"source\"], df[\"fraud_bool\"]).plot(kind=\"bar\", figsize=(5, 5), stacked=True)\n",
    "plt.title(\"source Against fraud_bool\", fontsize=15);\n",
    "plt.show()"
   ]
  },
  {
   "cell_type": "markdown",
   "metadata": {},
   "source": [
    "### device_os"
   ]
  },
  {
   "cell_type": "code",
   "execution_count": 125,
   "metadata": {
    "ExecuteTime": {
     "end_time": "2023-06-16T19:14:55.693431Z",
     "start_time": "2023-06-16T19:14:55.345605Z"
    }
   },
   "outputs": [],
   "source": [
    "pd.crosstab(df[\"device_os\"], df[\"fraud_bool\"], normalize=\"index\")*100"
   ]
  },
  {
   "cell_type": "code",
   "execution_count": 126,
   "metadata": {
    "ExecuteTime": {
     "end_time": "2023-06-16T19:14:56.537276Z",
     "start_time": "2023-06-16T19:14:55.693431Z"
    }
   },
   "outputs": [],
   "source": [
    "pd.crosstab(df[\"device_os\"], df[\"fraud_bool\"]).plot(kind=\"bar\", figsize=(5, 5), stacked=True)\n",
    "plt.title(\"device_os Against fraud_bool\", fontsize=15);\n",
    "plt.show()"
   ]
  },
  {
   "cell_type": "markdown",
   "metadata": {},
   "source": [
    "# Feature Engineering"
   ]
  },
  {
   "cell_type": "markdown",
   "metadata": {},
   "source": [
    "## one hot encoding"
   ]
  },
  {
   "cell_type": "code",
   "execution_count": 127,
   "metadata": {
    "ExecuteTime": {
     "end_time": "2023-06-16T19:14:56.553151Z",
     "start_time": "2023-06-16T19:14:56.542132Z"
    }
   },
   "outputs": [],
   "source": [
    "df.shape"
   ]
  },
  {
   "cell_type": "code",
   "execution_count": 128,
   "metadata": {
    "ExecuteTime": {
     "end_time": "2023-06-16T19:14:57.915696Z",
     "start_time": "2023-06-16T19:14:56.553151Z"
    }
   },
   "outputs": [],
   "source": [
    "df = pd.get_dummies(df,drop_first=True) # one hot encoding"
   ]
  },
  {
   "cell_type": "code",
   "execution_count": 129,
   "metadata": {
    "ExecuteTime": {
     "end_time": "2023-06-16T19:14:57.931227Z",
     "start_time": "2023-06-16T19:14:57.915696Z"
    }
   },
   "outputs": [],
   "source": [
    "df.shape"
   ]
  },
  {
   "cell_type": "code",
   "execution_count": 130,
   "metadata": {
    "ExecuteTime": {
     "end_time": "2023-06-16T19:14:57.963194Z",
     "start_time": "2023-06-16T19:14:57.933309Z"
    }
   },
   "outputs": [],
   "source": [
    "df.columns"
   ]
  },
  {
   "cell_type": "code",
   "execution_count": 131,
   "metadata": {
    "ExecuteTime": {
     "end_time": "2023-06-16T19:14:57.978885Z",
     "start_time": "2023-06-16T19:14:57.963194Z"
    }
   },
   "outputs": [],
   "source": [
    "# Machine learning libraries\n",
    "from sklearn.model_selection import train_test_split\n",
    "from sklearn.metrics import confusion_matrix, accuracy_score, precision_score, recall_score, f1_score, roc_curve, auc\n",
    "from sklearn.metrics import accuracy_score, precision_score, recall_score, roc_auc_score\n",
    "from sklearn.metrics import f1_score, confusion_matrix, precision_recall_curve, roc_curve\n",
    "from sklearn.metrics import ConfusionMatrixDisplay\n",
    "from imblearn.over_sampling import SMOTE"
   ]
  },
  {
   "cell_type": "markdown",
   "metadata": {},
   "source": [
    "# Model Building"
   ]
  },
  {
   "cell_type": "markdown",
   "metadata": {},
   "source": [
    "## Train test Split"
   ]
  },
  {
   "cell_type": "code",
   "execution_count": 132,
   "metadata": {
    "ExecuteTime": {
     "end_time": "2023-06-16T19:14:59.484457Z",
     "start_time": "2023-06-16T19:14:57.978885Z"
    }
   },
   "outputs": [],
   "source": [
    "X = df.iloc[:, 1:]  \n",
    "y = df.iloc[:, 0]\n",
    "\n",
    "X_train, X_val, y_train, y_val = train_test_split(X, y, test_size=0.2, random_state=42)\n"
   ]
  },
  {
   "cell_type": "markdown",
   "metadata": {},
   "source": [
    "## Data Scaling "
   ]
  },
  {
   "cell_type": "code",
   "execution_count": 133,
   "metadata": {
    "ExecuteTime": {
     "end_time": "2023-06-16T19:15:00.613011Z",
     "start_time": "2023-06-16T19:14:59.484457Z"
    }
   },
   "outputs": [],
   "source": [
    "from sklearn.preprocessing import MinMaxScaler, StandardScaler\n",
    "\n",
    "# Create an instance of the scaler\n",
    "scaler = MinMaxScaler()  # or StandardScaler() for standardization\n",
    "column_names = X_train.columns.tolist()\n",
    "# Fit the scaler on the training data\n",
    "scaler.fit(X_train)\n",
    "\n",
    "# Apply scaling to both the training and testing data\n",
    "X_train = scaler.transform(X_train)\n",
    "X_val = scaler.transform(X_val)\n",
    "\n",
    "X_train = pd.DataFrame(X_train, columns=column_names)\n",
    "X_val = pd.DataFrame(X_val, columns=column_names)\n"
   ]
  },
  {
   "cell_type": "code",
   "execution_count": 134,
   "metadata": {
    "ExecuteTime": {
     "end_time": "2023-06-16T19:15:00.660332Z",
     "start_time": "2023-06-16T19:15:00.613011Z"
    }
   },
   "outputs": [],
   "source": [
    "value_counts = y_train.value_counts()\n",
    "print(value_counts)"
   ]
  },
  {
   "cell_type": "code",
   "execution_count": 135,
   "metadata": {
    "ExecuteTime": {
     "end_time": "2023-06-16T19:15:00.691581Z",
     "start_time": "2023-06-16T19:15:00.660332Z"
    }
   },
   "outputs": [],
   "source": [
    "value_counts = y_val.value_counts()\n",
    "print(value_counts)"
   ]
  },
  {
   "cell_type": "code",
   "execution_count": 136,
   "metadata": {
    "ExecuteTime": {
     "end_time": "2023-06-16T19:16:41.007110Z",
     "start_time": "2023-06-16T19:16:40.994003Z"
    }
   },
   "outputs": [],
   "source": [
    "X_train.columns"
   ]
  },
  {
   "cell_type": "markdown",
   "metadata": {},
   "source": [
    "## ML Models training without Sampling Techniques"
   ]
  },
  {
   "cell_type": "code",
   "execution_count": 140,
   "metadata": {
    "ExecuteTime": {
     "end_time": "2023-06-16T19:16:51.284083Z",
     "start_time": "2023-06-16T19:16:45.985843Z"
    }
   },
   "outputs": [],
   "source": [
    "from imblearn.ensemble import BalancedBaggingClassifier, EasyEnsembleClassifier\n",
    "from lightgbm import LGBMClassifier\n",
    "from sklearn.ensemble import GradientBoostingClassifier\n",
    "from sklearn.metrics import roc_curve, auc\n",
    "from sklearn.model_selection import train_test_split\n",
    "from sklearn.metrics import accuracy_score, precision_score, recall_score, f1_score, classification_report, confusion_matrix\n",
    "import matplotlib.pyplot as plt\n",
    "import seaborn as sns"
   ]
  },
  {
   "cell_type": "code",
   "execution_count": 141,
   "metadata": {
    "ExecuteTime": {
     "end_time": "2023-06-16T19:34:00.599510Z",
     "start_time": "2023-06-16T19:16:51.286022Z"
    }
   },
   "outputs": [],
   "source": [
    "# Define a list of classification models to evaluate\n",
    "models = [\n",
    "    ('Logistic Regression', LogisticRegression()),\n",
    "    ('Decision Tree', DecisionTreeClassifier()),\n",
    "    ('Random Forest', RandomForestClassifier(n_estimators=10, max_depth=10)),\n",
    "    ('GBM', GradientBoostingClassifier()),\n",
    "    ('LightGBM', LGBMClassifier())\n",
    "]\n",
    "\n",
    "# Iterate over each model\n",
    "for name, model in models:\n",
    "    print(f\"Evaluating {name}...\")\n",
    "    \n",
    "    # Train the model\n",
    "    model.fit(X_train, y_train)\n",
    "    \n",
    "    # Make predictions on the validation set\n",
    "    y_pred = model.predict(X_val)\n",
    "    \n",
    "    # Calculate validation metrics\n",
    "    accuracy = accuracy_score(y_val, y_pred)\n",
    "    precision = precision_score(y_val, y_pred)\n",
    "    recall = recall_score(y_val, y_pred)\n",
    "    f1 = f1_score(y_val, y_pred)\n",
    "    \n",
    "    # Print the validation metrics\n",
    "    print(f\"Accuracy: {accuracy}\")\n",
    "    print(f\"Precision: {precision}\")\n",
    "    print(f\"Recall: {recall}\")\n",
    "    print(f\"F1-Score: {f1}\")\n",
    "    print()\n",
    "    \n",
    "    # Print the classification report\n",
    "    report = classification_report(y_val, y_pred)\n",
    "    print(\"Classification Report:\")\n",
    "    print(report)\n",
    "    print()\n",
    "    \n",
    "    # Draw ROC curve\n",
    "    fpr, tpr, thresholds = roc_curve(y_val, y_pred)\n",
    "    roc_auc = auc(fpr, tpr)\n",
    "    plt.figure()\n",
    "    plt.plot(fpr, tpr, color='darkorange', lw=2, label='ROC curve (area = %0.2f)' % roc_auc)\n",
    "    plt.plot([0, 1], [0, 1], color='navy', lw=2, linestyle='--')\n",
    "    plt.xlim([0.0, 1.0])\n",
    "    plt.ylim([0.0, 1.05])\n",
    "    plt.xlabel('False Positive Rate')\n",
    "    plt.ylabel('True Positive Rate')\n",
    "    plt.title('Receiver Operating Characteristic')\n",
    "    plt.legend(loc=\"lower right\")\n",
    "    plt.show()\n",
    "    \n",
    "    # Plot confusion matrix\n",
    "    cm = confusion_matrix(y_val, y_pred)\n",
    "    sns.heatmap(cm, annot=True, fmt='d', cmap='Blues')\n",
    "    plt.title('Confusion Matrix')\n",
    "    plt.xlabel('Predicted Labels')\n",
    "    plt.ylabel('True Labels')\n",
    "    plt.show()\n"
   ]
  },
  {
   "cell_type": "markdown",
   "metadata": {},
   "source": [
    "## ML Models to handle Imbalance in the dataset"
   ]
  },
  {
   "cell_type": "code",
   "execution_count": 142,
   "metadata": {
    "ExecuteTime": {
     "end_time": "2023-06-16T19:36:25.277892Z",
     "start_time": "2023-06-16T19:34:00.599510Z"
    }
   },
   "outputs": [],
   "source": [
    "# Define a list of classification models to evaluate\n",
    "models = [\n",
    "    ('Balanced Bagging', BalancedBaggingClassifier()),\n",
    "    ('Easy Ensemble', EasyEnsembleClassifier())\n",
    "]\n",
    "\n",
    "# Iterate over each model\n",
    "for name, model in models:\n",
    "    print(f\"Evaluating {name}...\")\n",
    "    \n",
    "    # Train the model\n",
    "    model.fit(X_train, y_train)\n",
    "    \n",
    "    # Make predictions on the validation set\n",
    "    y_pred = model.predict(X_val)\n",
    "    \n",
    "    # Calculate validation metrics\n",
    "    accuracy = accuracy_score(y_val, y_pred)\n",
    "    precision = precision_score(y_val, y_pred)\n",
    "    recall = recall_score(y_val, y_pred)\n",
    "    f1 = f1_score(y_val, y_pred)\n",
    "    \n",
    "    # Print the validation metrics\n",
    "    print(f\"Accuracy: {accuracy}\")\n",
    "    print(f\"Precision: {precision}\")\n",
    "    print(f\"Recall: {recall}\")\n",
    "    print(f\"F1-Score: {f1}\")\n",
    "    print()\n",
    "    \n",
    "    # Print the classification report\n",
    "    report = classification_report(y_val, y_pred)\n",
    "    print(\"Classification Report:\")\n",
    "    print(report)\n",
    "    print()\n",
    "    \n",
    "    # Draw ROC curve\n",
    "    fpr, tpr, thresholds = roc_curve(y_val, y_pred)\n",
    "    roc_auc = auc(fpr, tpr)\n",
    "    plt.figure()\n",
    "    plt.plot(fpr, tpr, color='darkorange', lw=2, label='ROC curve (area = %0.2f)' % roc_auc)\n",
    "    plt.plot([0, 1], [0, 1], color='navy', lw=2, linestyle='--')\n",
    "    plt.xlim([0.0, 1.0])\n",
    "    plt.ylim([0.0, 1.05])\n",
    "    plt.xlabel('False Positive Rate')\n",
    "    plt.ylabel('True Positive Rate')\n",
    "    plt.title('Receiver Operating Characteristic')\n",
    "    plt.legend(loc=\"lower right\")\n",
    "    plt.show()\n",
    "    \n",
    "    # Plot confusion matrix\n",
    "    cm = confusion_matrix(y_val, y_pred)\n",
    "    sns.heatmap(cm, annot=True, fmt='d', cmap='Blues')\n",
    "    plt.title('Confusion Matrix')\n",
    "    plt.xlabel('Predicted Labels')\n",
    "    plt.ylabel('True Labels')\n",
    "    plt.show()\n"
   ]
  },
  {
   "cell_type": "markdown",
   "metadata": {},
   "source": [
    "# Feature Importance"
   ]
  },
  {
   "cell_type": "code",
   "execution_count": null,
   "metadata": {
    "ExecuteTime": {
     "end_time": "2023-06-16T14:04:19.273434Z",
     "start_time": "2023-06-16T14:03:59.346607Z"
    }
   },
   "outputs": [],
   "source": [
    "# Define a list of classification models to evaluate\n",
    "models = [\n",
    "    ('Logistic Regression', LogisticRegression()),\n",
    "]\n",
    "\n",
    "# Iterate over each model\n",
    "for name, model in models:\n",
    "    print(f\"Evaluating {name}...\")\n",
    "    \n",
    "    # Train the model\n",
    "    model.fit(X_train, y_train)\n",
    "    \n",
    "    # Make predictions on the validation set\n",
    "    y_pred = model.predict(X_val)\n",
    "    \n",
    "    # Print the classification report\n",
    "    report = classification_report(y_val, y_pred)\n",
    "    print(\"Classification Report:\")\n",
    "    print(report)\n",
    "    print()\n",
    "    # Get feature importance\n",
    "    if hasattr(model, 'coef_'):\n",
    "        feature_importance = model.coef_\n",
    "        print(\"Top 10 Important Features:\")\n",
    "        indices = feature_importance.argsort()[0][-10:]  # Indices of top 10 features\n",
    "        for idx in indices:\n",
    "            feature_name = X_train.columns[idx]  # Assuming X_train is a DataFrame with feature names as column names\n",
    "            importance = feature_importance[0][idx]\n",
    "            print(f\"Feature: {feature_name}, Importance: {importance}\")\n",
    "    print()"
   ]
  },
  {
   "cell_type": "code",
   "execution_count": null,
   "metadata": {
    "ExecuteTime": {
     "end_time": "2023-06-16T14:05:56.801256Z",
     "start_time": "2023-06-16T14:04:19.276432Z"
    }
   },
   "outputs": [],
   "source": [
    "from sklearn.tree import export_text\n",
    "# Define a list of classification models to evaluate\n",
    "models = [\n",
    "    ('Decision Tree', DecisionTreeClassifier()),\n",
    "]\n",
    "\n",
    "# Iterate over each model\n",
    "for name, model in models:\n",
    "    print(f\"Evaluating {name}...\")\n",
    "    \n",
    "    # Train the model\n",
    "    model.fit(X_train, y_train)\n",
    "    \n",
    "    # Make predictions on the validation set\n",
    "    y_pred = model.predict(X_val)\n",
    "    # Print the classification report\n",
    "    report = classification_report(y_val, y_pred)\n",
    "    #print(\"Classification Report:\")\n",
    "    #print(report)\n",
    "    print()\n",
    "    \n",
    "    # Print the decision tree structure\n",
    "    print(\"Decision Tree:\")\n",
    "    tree_rules = export_text(model, feature_names=list(X_train.columns))\n",
    "    #print(tree_rules)\n",
    "    \n",
    "    # Get feature importance\n",
    "    if hasattr(model, 'feature_importances_'):\n",
    "        feature_importance = model.feature_importances_\n",
    "        \n",
    "        # Get indices of top ten features\n",
    "        top_indices = feature_importance.argsort()[-10:][::-1]\n",
    "        \n",
    "        print(\"Top Ten Important Features:\")\n",
    "        for idx in top_indices:\n",
    "            feature_name = X_train.columns[idx]  # Assuming X_train is a DataFrame with feature names as column names\n",
    "            importance = feature_importance[idx]\n",
    "            print(f\"Feature: {feature_name}, Importance: {importance}\")\n",
    "    print()"
   ]
  },
  {
   "cell_type": "code",
   "execution_count": null,
   "metadata": {
    "ExecuteTime": {
     "end_time": "2023-06-16T03:32:14.063056Z",
     "start_time": "2023-06-16T03:32:14.034029Z"
    }
   },
   "outputs": [],
   "source": []
  },
  {
   "cell_type": "code",
   "execution_count": null,
   "metadata": {},
   "outputs": [],
   "source": []
  },
  {
   "cell_type": "code",
   "execution_count": null,
   "metadata": {},
   "outputs": [],
   "source": []
  }
 ],
 "metadata": {
  "kernelspec": {
   "display_name": "Python 3 (ipykernel)",
   "language": "python",
   "name": "python3"
  },
  "language_info": {
   "codemirror_mode": {
    "name": "ipython",
    "version": 3
   },
   "file_extension": ".py",
   "mimetype": "text/x-python",
   "name": "python",
   "nbconvert_exporter": "python",
   "pygments_lexer": "ipython3",
   "version": "3.11.4"
  },
  "toc": {
   "base_numbering": 1,
   "nav_menu": {},
   "number_sections": true,
   "sideBar": true,
   "skip_h1_title": false,
   "title_cell": "Table of Contents",
   "title_sidebar": "Contents",
   "toc_cell": false,
   "toc_position": {
    "height": "calc(100% - 180px)",
    "left": "10px",
    "top": "150px",
    "width": "303.797px"
   },
   "toc_section_display": true,
   "toc_window_display": true
  }
 },
 "nbformat": 4,
 "nbformat_minor": 4
}
